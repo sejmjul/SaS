{
 "cells": [
  {
   "cell_type": "code",
   "execution_count": 2,
   "metadata": {
    "collapsed": true
   },
   "outputs": [],
   "source": [
    "import pandas as pd, numpy, scipy, matplotlib"
   ]
  },
  {
   "cell_type": "markdown",
   "metadata": {
    "collapsed": false
   },
   "source": [
    "nacitanie dat do dafatfamov"
   ]
  },
  {
   "cell_type": "code",
   "execution_count": 3,
   "metadata": {
    "collapsed": false
   },
   "outputs": [
    {
     "name": "stdout",
     "output_type": "stream",
     "text": [
      "14908 11039 2592\n"
     ]
    }
   ],
   "source": [
    "df_product = pd.read_csv(\"product.csv\", sep='\\t')\n",
    "df_session = pd.read_csv(\"session.csv\", sep='\\t')\n",
    "df_users = pd.read_csv(\"user.csv\", sep='\\t')\n",
    "print(len(df_product), len(df_session), len(df_users))\n",
    "# df_product.head()\n",
    "# df_session.head()\n",
    "# df_users.head()\n"
   ]
  },
  {
   "cell_type": "markdown",
   "metadata": {
    "collapsed": false
   },
   "source": [
    "pocet zaznamov v kazdom subore"
   ]
  },
  {
   "cell_type": "code",
   "execution_count": 4,
   "metadata": {
    "collapsed": false
   },
   "outputs": [
    {
     "name": "stdout",
     "output_type": "stream",
     "text": [
      "pocet pozretych produktov: 14908\n",
      "pocet uzivatelskych sedeni: 11039\n",
      "pocet pouzivatelov: 2592\n"
     ]
    }
   ],
   "source": [
    "print(f'pocet pozretych produktov: {len(df_product)}\\npocet uzivatelskych sedeni: {len(df_session)}\\npocet pouzivatelov: {len(df_users)}')"
   ]
  },
  {
   "cell_type": "code",
   "execution_count": 11,
   "metadata": {
    "collapsed": false
   },
   "outputs": [
    {
     "data": {
      "text/html": [
       "<div>\n",
       "<style scoped>\n",
       "    .dataframe tbody tr th:only-of-type {\n",
       "        vertical-align: middle;\n",
       "    }\n",
       "\n",
       "    .dataframe tbody tr th {\n",
       "        vertical-align: top;\n",
       "    }\n",
       "\n",
       "    .dataframe thead th {\n",
       "        text-align: right;\n",
       "    }\n",
       "</style>\n",
       "<table border=\"1\" class=\"dataframe\">\n",
       "  <thead>\n",
       "    <tr style=\"text-align: right;\">\n",
       "      <th></th>\n",
       "      <th>count</th>\n",
       "      <th>mean</th>\n",
       "      <th>std</th>\n",
       "      <th>min</th>\n",
       "      <th>25%</th>\n",
       "      <th>50%</th>\n",
       "      <th>75%</th>\n",
       "      <th>max</th>\n",
       "    </tr>\n",
       "  </thead>\n",
       "  <tbody>\n",
       "    <tr>\n",
       "      <th>product_ean</th>\n",
       "      <td>14908.0</td>\n",
       "      <td>5.037582e+12</td>\n",
       "      <td>2.895454e+12</td>\n",
       "      <td>554747017.0</td>\n",
       "      <td>2.509789e+12</td>\n",
       "      <td>5.071681e+12</td>\n",
       "      <td>7.565555e+12</td>\n",
       "      <td>9.999524e+12</td>\n",
       "    </tr>\n",
       "  </tbody>\n",
       "</table>\n",
       "</div>"
      ],
      "text/plain": [
       "               count          mean           std          min           25%  \\\n",
       "product_ean  14908.0  5.037582e+12  2.895454e+12  554747017.0  2.509789e+12   \n",
       "\n",
       "                      50%           75%           max  \n",
       "product_ean  5.071681e+12  7.565555e+12  9.999524e+12  "
      ]
     },
     "execution_count": 11,
     "metadata": {},
     "output_type": "execute_result"
    }
   ],
   "source": [
    "df_product.describe().round()"
   ]
  },
  {
   "cell_type": "code",
   "execution_count": null,
   "metadata": {
    "collapsed": false
   },
   "outputs": [],
   "source": []
  }
 ],
 "metadata": {
  "kernelspec": {
   "display_name": "Python 3",
   "language": "python",
   "name": "python3"
  },
  "language_info": {
   "codemirror_mode": {
    "name": "ipython",
    "version": 3
   },
   "file_extension": ".py",
   "mimetype": "text/x-python",
   "name": "python",
   "nbconvert_exporter": "python",
   "pygments_lexer": "ipython3",
   "version": "3.12.0"
  }
 },
 "nbformat": 4,
 "nbformat_minor": 0
}
