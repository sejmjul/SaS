{
 "cells": [
  {
   "cell_type": "code",
   "execution_count": 34,
   "metadata": {
    "collapsed": true
   },
   "outputs": [],
   "source": [
    "import pandas as pd, numpy, scipy, matplotlib"
   ]
  },
  {
   "cell_type": "markdown",
   "source": [
    "nacitanie dat do dafatfamov"
   ],
   "metadata": {
    "collapsed": false
   }
  },
  {
   "cell_type": "code",
   "execution_count": 35,
   "outputs": [
    {
     "name": "stdout",
     "output_type": "stream",
     "text": [
      "14908 11039 2592\n"
     ]
    }
   ],
   "source": [
    "df_product = pd.read_csv(\"product.csv\", sep='\\t')\n",
    "df_session = pd.read_csv(\"session.csv\", sep='\\t')\n",
    "df_users = pd.read_csv(\"user.csv\", sep='\\t')\n",
    "print(len(df_product), len(df_session), len(df_users))\n",
    "# df_product.head()\n",
    "# df_session.head()\n",
    "# df_users.head()\n"
   ],
   "metadata": {
    "collapsed": false
   }
  },
  {
   "cell_type": "markdown",
   "source": [
    "pocet zaznamov v kazdom subore"
   ],
   "metadata": {
    "collapsed": false
   }
  },
  {
   "cell_type": "code",
   "execution_count": 36,
   "outputs": [
    {
     "name": "stdout",
     "output_type": "stream",
     "text": [
      "pocet pozretych produktov: 14908\n",
      "pocet uzivatelskych sedeni: 11039\n",
      "pocet pouzivatelov: 2592\n"
     ]
    }
   ],
   "source": [
    "print(f'pocet pozretych produktov: {len(df_product)}\\npocet uzivatelskych sedeni: {len(df_session)}\\npocet pouzivatelov: {len(df_users)}')"
   ],
   "metadata": {
    "collapsed": false
   }
  },
  {
   "cell_type": "code",
   "execution_count": 38,
   "outputs": [
    {
     "name": "stdout",
     "output_type": "stream",
     "text": [
      "               count          mean           std          min           25%  \\\n",
      "product_ean  14908.0  5.037582e+12  2.895454e+12  554747017.0  2.509789e+12   \n",
      "\n",
      "                      50%           75%           max  \n",
      "product_ean  5.071681e+12  7.565555e+12  9.999524e+12  \n"
     ]
    }
   ],
   "source": [
    "print(df_product.describe().round(2).T)"
   ],
   "metadata": {
    "collapsed": false
   }
  },
  {
   "cell_type": "code",
   "execution_count": 37,
   "outputs": [],
   "source": [],
   "metadata": {
    "collapsed": false
   }
  }
 ],
 "metadata": {
  "kernelspec": {
   "display_name": "Python 3",
   "language": "python",
   "name": "python3"
  },
  "language_info": {
   "codemirror_mode": {
    "name": "ipython",
    "version": 2
   },
   "file_extension": ".py",
   "mimetype": "text/x-python",
   "name": "python",
   "nbconvert_exporter": "python",
   "pygments_lexer": "ipython2",
   "version": "2.7.6"
  }
 },
 "nbformat": 4,
 "nbformat_minor": 0
}
