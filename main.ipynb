{
 "cells": [
  {
   "cell_type": "code",
   "execution_count": 1,
   "metadata": {
    "collapsed": true
   },
   "outputs": [],
   "source": [
    "import pandas as pd, numpy, scipy, matplotlib"
   ]
  },
  {
   "cell_type": "markdown",
   "source": [
    "nacitanie dat do dafatfamov"
   ],
   "metadata": {
    "collapsed": false
   }
  },
  {
   "cell_type": "code",
   "execution_count": 5,
   "outputs": [
    {
     "data": {
      "text/plain": "                 code\\tproduct_ean\\tstore_name\\tlocation\n0                IN\\t3550122019246\\tTeghra\\tAsia/Kolkata\n1                    JP\\t3293910072053\\tToba\\tAsia/Tokyo\n2                IN\\t8879380535301\\tKundla\\tAsia/Kolkata\n3       CL\\t5488010366760\\tChiguayante\\tAmerica/Santiago\n4      PG\\t3161153029229\\tMount Hagen\\tPacific/Port_M...\n...                                                  ...\n14903              PK\\t3231680675975\\tJhol\\tAsia/Karachi\n14904     MX\\t6658350634617\\tContla\\tAmerica/Mexico_City\n14905          BD\\t0108089628792\\tManikchari\\tAsia/Dhaka\n14906  DO\\t4035395311840\\tSanta Cruz de Barahona\\tAme...\n14907     TH\\t8737878087698\\tPhanat Nikhom\\tAsia/Bangkok\n\n[14908 rows x 1 columns]",
      "text/html": "<div>\n<style scoped>\n    .dataframe tbody tr th:only-of-type {\n        vertical-align: middle;\n    }\n\n    .dataframe tbody tr th {\n        vertical-align: top;\n    }\n\n    .dataframe thead th {\n        text-align: right;\n    }\n</style>\n<table border=\"1\" class=\"dataframe\">\n  <thead>\n    <tr style=\"text-align: right;\">\n      <th></th>\n      <th>code\\tproduct_ean\\tstore_name\\tlocation</th>\n    </tr>\n  </thead>\n  <tbody>\n    <tr>\n      <th>0</th>\n      <td>IN\\t3550122019246\\tTeghra\\tAsia/Kolkata</td>\n    </tr>\n    <tr>\n      <th>1</th>\n      <td>JP\\t3293910072053\\tToba\\tAsia/Tokyo</td>\n    </tr>\n    <tr>\n      <th>2</th>\n      <td>IN\\t8879380535301\\tKundla\\tAsia/Kolkata</td>\n    </tr>\n    <tr>\n      <th>3</th>\n      <td>CL\\t5488010366760\\tChiguayante\\tAmerica/Santiago</td>\n    </tr>\n    <tr>\n      <th>4</th>\n      <td>PG\\t3161153029229\\tMount Hagen\\tPacific/Port_M...</td>\n    </tr>\n    <tr>\n      <th>...</th>\n      <td>...</td>\n    </tr>\n    <tr>\n      <th>14903</th>\n      <td>PK\\t3231680675975\\tJhol\\tAsia/Karachi</td>\n    </tr>\n    <tr>\n      <th>14904</th>\n      <td>MX\\t6658350634617\\tContla\\tAmerica/Mexico_City</td>\n    </tr>\n    <tr>\n      <th>14905</th>\n      <td>BD\\t0108089628792\\tManikchari\\tAsia/Dhaka</td>\n    </tr>\n    <tr>\n      <th>14906</th>\n      <td>DO\\t4035395311840\\tSanta Cruz de Barahona\\tAme...</td>\n    </tr>\n    <tr>\n      <th>14907</th>\n      <td>TH\\t8737878087698\\tPhanat Nikhom\\tAsia/Bangkok</td>\n    </tr>\n  </tbody>\n</table>\n<p>14908 rows × 1 columns</p>\n</div>"
     },
     "execution_count": 5,
     "metadata": {},
     "output_type": "execute_result"
    }
   ],
   "source": [
    "df_product = pd.read_csv(\"product.csv\")\n",
    "df_session = pd.read_csv(\"session.csv\")\n",
    "df_users = pd.read_csv(\"users.csv\")"
   ],
   "metadata": {
    "collapsed": false
   }
  },
  {
   "cell_type": "code",
   "execution_count": null,
   "outputs": [],
   "source": [],
   "metadata": {
    "collapsed": false
   }
  }
 ],
 "metadata": {
  "kernelspec": {
   "display_name": "Python 3",
   "language": "python",
   "name": "python3"
  },
  "language_info": {
   "codemirror_mode": {
    "name": "ipython",
    "version": 2
   },
   "file_extension": ".py",
   "mimetype": "text/x-python",
   "name": "python",
   "nbconvert_exporter": "python",
   "pygments_lexer": "ipython2",
   "version": "2.7.6"
  }
 },
 "nbformat": 4,
 "nbformat_minor": 0
}
